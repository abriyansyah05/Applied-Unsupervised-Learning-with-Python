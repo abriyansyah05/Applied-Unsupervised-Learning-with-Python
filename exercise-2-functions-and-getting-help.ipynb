{
 "cells": [
  {
   "cell_type": "markdown",
   "id": "45c2fb6c",
   "metadata": {
    "papermill": {
     "duration": 0.020455,
     "end_time": "2022-05-11T08:15:42.590874",
     "exception": false,
     "start_time": "2022-05-11T08:15:42.570419",
     "status": "completed"
    },
    "tags": []
   },
   "source": [
    "**This notebook is an exercise in the [Python](https://www.kaggle.com/learn/python) course.  You can reference the tutorial at [this link](https://www.kaggle.com/colinmorris/functions-and-getting-help).**\n",
    "\n",
    "---\n"
   ]
  },
  {
   "cell_type": "markdown",
   "id": "3f735f3c",
   "metadata": {
    "papermill": {
     "duration": 0.019634,
     "end_time": "2022-05-11T08:15:42.627375",
     "exception": false,
     "start_time": "2022-05-11T08:15:42.607741",
     "status": "completed"
    },
    "tags": []
   },
   "source": [
    "Functions are powerful. Try writing some yourself.\n",
    "\n",
    "As before, don't forget to run the setup code below before jumping into question 1."
   ]
  },
  {
   "cell_type": "code",
   "execution_count": 1,
   "id": "e5dc3fab",
   "metadata": {
    "_kg_hide-input": true,
    "_kg_hide-output": true,
    "execution": {
     "iopub.execute_input": "2022-05-11T08:15:42.663044Z",
     "iopub.status.busy": "2022-05-11T08:15:42.662596Z",
     "iopub.status.idle": "2022-05-11T08:15:42.727652Z",
     "shell.execute_reply": "2022-05-11T08:15:42.727041Z"
    },
    "papermill": {
     "duration": 0.085807,
     "end_time": "2022-05-11T08:15:42.729806",
     "exception": false,
     "start_time": "2022-05-11T08:15:42.643999",
     "status": "completed"
    },
    "tags": []
   },
   "outputs": [
    {
     "name": "stdout",
     "output_type": "stream",
     "text": [
      "Setup complete.\n"
     ]
    }
   ],
   "source": [
    "# SETUP. You don't need to worry for now about what this code does or how it works.\n",
    "from learntools.core import binder; binder.bind(globals())\n",
    "from learntools.python.ex2 import *\n",
    "print('Setup complete.')"
   ]
  },
  {
   "cell_type": "markdown",
   "id": "4f4b35ef",
   "metadata": {
    "papermill": {
     "duration": 0.013899,
     "end_time": "2022-05-11T08:15:42.758311",
     "exception": false,
     "start_time": "2022-05-11T08:15:42.744412",
     "status": "completed"
    },
    "tags": []
   },
   "source": [
    "# 1.\n",
    "\n",
    "Complete the body of the following function according to its docstring.\n",
    "\n",
    "HINT: Python has a built-in function `round`."
   ]
  },
  {
   "cell_type": "code",
   "execution_count": 2,
   "id": "ed47f391",
   "metadata": {
    "execution": {
     "iopub.execute_input": "2022-05-11T08:15:42.789038Z",
     "iopub.status.busy": "2022-05-11T08:15:42.788063Z",
     "iopub.status.idle": "2022-05-11T08:15:42.800545Z",
     "shell.execute_reply": "2022-05-11T08:15:42.799730Z"
    },
    "papermill": {
     "duration": 0.030796,
     "end_time": "2022-05-11T08:15:42.803036",
     "exception": false,
     "start_time": "2022-05-11T08:15:42.772240",
     "status": "completed"
    },
    "tags": []
   },
   "outputs": [
    {
     "name": "stdout",
     "output_type": "stream",
     "text": [
      "3.14\n"
     ]
    },
    {
     "data": {
      "application/javascript": [
       "parent.postMessage({\"jupyterEvent\": \"custom.exercise_interaction\", \"data\": {\"outcomeType\": 1, \"valueTowardsCompletion\": 0.16666666666666666, \"interactionType\": 1, \"questionType\": 2, \"questionId\": \"1_RoundFunctionProblem\", \"learnToolsVersion\": \"0.3.4\", \"failureMessage\": \"\", \"exceptionClass\": \"\", \"trace\": \"\"}}, \"*\")"
      ],
      "text/plain": [
       "<IPython.core.display.Javascript object>"
      ]
     },
     "metadata": {},
     "output_type": "display_data"
    },
    {
     "data": {
      "text/markdown": [
       "<span style=\"color:#33cc33\">Correct</span>"
      ],
      "text/plain": [
       "Correct"
      ]
     },
     "metadata": {},
     "output_type": "display_data"
    }
   ],
   "source": [
    "def round_to_two_places(num):\n",
    "    \"\"\"Return the given number rounded to two decimal places. \n",
    "    \n",
    "    >>> round_to_two_places(3.14159)\n",
    "    3.14\n",
    "    \"\"\"\n",
    "    # Replace this body with your own code.\n",
    "    # (\"pass\" is a keyword that does literally nothing. We used it as a placeholder\n",
    "    # because after we begin a code block, Python requires at least one line of code)\n",
    "    return round(num, ndigits = 2)\n",
    "\n",
    "round_to_two_places(3.14159)\n",
    "print(round_to_two_places(3.14159))\n",
    "# Check your answer\n",
    "q1.check()"
   ]
  },
  {
   "cell_type": "code",
   "execution_count": 3,
   "id": "d63d264e",
   "metadata": {
    "execution": {
     "iopub.execute_input": "2022-05-11T08:15:42.853103Z",
     "iopub.status.busy": "2022-05-11T08:15:42.852828Z",
     "iopub.status.idle": "2022-05-11T08:15:42.857605Z",
     "shell.execute_reply": "2022-05-11T08:15:42.855963Z"
    },
    "papermill": {
     "duration": 0.032374,
     "end_time": "2022-05-11T08:15:42.859507",
     "exception": false,
     "start_time": "2022-05-11T08:15:42.827133",
     "status": "completed"
    },
    "tags": []
   },
   "outputs": [],
   "source": [
    "# Uncomment the following for a hint\n",
    "#q1.hint()\n",
    "# Or uncomment the following to peek at the solution\n",
    "#q1.solution()"
   ]
  },
  {
   "cell_type": "markdown",
   "id": "6ce3a640",
   "metadata": {
    "papermill": {
     "duration": 0.022927,
     "end_time": "2022-05-11T08:15:42.905945",
     "exception": false,
     "start_time": "2022-05-11T08:15:42.883018",
     "status": "completed"
    },
    "tags": []
   },
   "source": [
    "# 2.\n",
    "The help for `round` says that `ndigits` (the second argument) may be negative.\n",
    "What do you think will happen when it is? Try some examples in the following cell."
   ]
  },
  {
   "cell_type": "code",
   "execution_count": 4,
   "id": "b37a0e54",
   "metadata": {
    "execution": {
     "iopub.execute_input": "2022-05-11T08:15:42.953486Z",
     "iopub.status.busy": "2022-05-11T08:15:42.953280Z",
     "iopub.status.idle": "2022-05-11T08:15:42.957078Z",
     "shell.execute_reply": "2022-05-11T08:15:42.956663Z"
    },
    "papermill": {
     "duration": 0.030754,
     "end_time": "2022-05-11T08:15:42.960077",
     "exception": false,
     "start_time": "2022-05-11T08:15:42.929323",
     "status": "completed"
    },
    "tags": []
   },
   "outputs": [
    {
     "data": {
      "text/plain": [
       "10.0"
      ]
     },
     "execution_count": 4,
     "metadata": {},
     "output_type": "execute_result"
    }
   ],
   "source": [
    "# Put your test code here\n",
    "round(13.14159,ndigits = -1)"
   ]
  },
  {
   "cell_type": "markdown",
   "id": "e82e2bf4",
   "metadata": {
    "papermill": {
     "duration": 0.023558,
     "end_time": "2022-05-11T08:15:43.007684",
     "exception": false,
     "start_time": "2022-05-11T08:15:42.984126",
     "status": "completed"
    },
    "tags": []
   },
   "source": [
    "Can you think of a case where this would be useful?  Once you're ready, run the code cell below to see the answer and to receive credit for completing the problem."
   ]
  },
  {
   "cell_type": "code",
   "execution_count": 5,
   "id": "610b02fc",
   "metadata": {
    "execution": {
     "iopub.execute_input": "2022-05-11T08:15:43.056884Z",
     "iopub.status.busy": "2022-05-11T08:15:43.056637Z",
     "iopub.status.idle": "2022-05-11T08:15:43.062367Z",
     "shell.execute_reply": "2022-05-11T08:15:43.061048Z"
    },
    "papermill": {
     "duration": 0.033001,
     "end_time": "2022-05-11T08:15:43.064662",
     "exception": false,
     "start_time": "2022-05-11T08:15:43.031661",
     "status": "completed"
    },
    "tags": []
   },
   "outputs": [
    {
     "data": {
      "application/javascript": [
       "parent.postMessage({\"jupyterEvent\": \"custom.exercise_interaction\", \"data\": {\"interactionType\": 3, \"questionType\": 4, \"questionId\": \"2_RoundNdigitsProblem\", \"learnToolsVersion\": \"0.3.4\", \"valueTowardsCompletion\": 0.0, \"failureMessage\": \"\", \"exceptionClass\": \"\", \"trace\": \"\", \"outcomeType\": 4}}, \"*\")"
      ],
      "text/plain": [
       "<IPython.core.display.Javascript object>"
      ]
     },
     "metadata": {},
     "output_type": "display_data"
    },
    {
     "data": {
      "text/markdown": [
       "<span style=\"color:#33cc99\">Solution:</span> As you've seen, `ndigits=-1` rounds to the nearest 10, `ndigits=-2` rounds to the nearest 100 and so on. Where might this be useful? Suppose we're dealing with large numbers:\n",
       "\n",
       "> The area of Finland is 338,424 km²  \n",
       "> The area of Greenland is 2,166,086 km²\n",
       "\n",
       "We probably don't care whether it's really 338,424, or 338,425, or 338,177. All those digits of accuracy are just distracting. We can chop them off by calling `round()` with `ndigits=-3`:\n",
       "\n",
       "> The area of Finland is 338,000 km²  \n",
       "> The area of Greenland is 2,166,000 km²\n",
       "\n",
       "(We'll talk about how we would get the commas later when we talk about string formatting :))\n"
      ],
      "text/plain": [
       "Solution: As you've seen, `ndigits=-1` rounds to the nearest 10, `ndigits=-2` rounds to the nearest 100 and so on. Where might this be useful? Suppose we're dealing with large numbers:\n",
       "\n",
       "> The area of Finland is 338,424 km²  \n",
       "> The area of Greenland is 2,166,086 km²\n",
       "\n",
       "We probably don't care whether it's really 338,424, or 338,425, or 338,177. All those digits of accuracy are just distracting. We can chop them off by calling `round()` with `ndigits=-3`:\n",
       "\n",
       "> The area of Finland is 338,000 km²  \n",
       "> The area of Greenland is 2,166,000 km²\n",
       "\n",
       "(We'll talk about how we would get the commas later when we talk about string formatting :))"
      ]
     },
     "metadata": {},
     "output_type": "display_data"
    }
   ],
   "source": [
    "# Check your answer (Run this code cell to receive credit!)\n",
    "q2.solution()"
   ]
  },
  {
   "cell_type": "markdown",
   "id": "5b7e1cc8",
   "metadata": {
    "papermill": {
     "duration": 0.025445,
     "end_time": "2022-05-11T08:15:43.116070",
     "exception": false,
     "start_time": "2022-05-11T08:15:43.090625",
     "status": "completed"
    },
    "tags": []
   },
   "source": [
    "# 3.\n",
    "\n",
    "In the previous exercise, the candy-sharing friends Alice, Bob and Carol tried to split candies evenly. For the sake of their friendship, any candies left over would be smashed. For example, if they collectively bring home 91 candies, they'll take 30 each and smash 1.\n",
    "\n",
    "Below is a simple function that will calculate the number of candies to smash for *any* number of total candies.\n",
    "\n",
    "Modify it so that it optionally takes a second argument representing the number of friends the candies are being split between. If no second argument is provided, it should assume 3 friends, as before.\n",
    "\n",
    "Update the docstring to reflect this new behaviour."
   ]
  },
  {
   "cell_type": "code",
   "execution_count": 6,
   "id": "8902b9f9",
   "metadata": {
    "execution": {
     "iopub.execute_input": "2022-05-11T08:15:43.169428Z",
     "iopub.status.busy": "2022-05-11T08:15:43.168985Z",
     "iopub.status.idle": "2022-05-11T08:15:43.175484Z",
     "shell.execute_reply": "2022-05-11T08:15:43.174805Z"
    },
    "papermill": {
     "duration": 0.035607,
     "end_time": "2022-05-11T08:15:43.177353",
     "exception": false,
     "start_time": "2022-05-11T08:15:43.141746",
     "status": "completed"
    },
    "tags": []
   },
   "outputs": [
    {
     "data": {
      "application/javascript": [
       "parent.postMessage({\"jupyterEvent\": \"custom.exercise_interaction\", \"data\": {\"outcomeType\": 1, \"valueTowardsCompletion\": 0.16666666666666666, \"interactionType\": 1, \"questionType\": 2, \"questionId\": \"3_CandySmashingFunctionProblem\", \"learnToolsVersion\": \"0.3.4\", \"failureMessage\": \"\", \"exceptionClass\": \"\", \"trace\": \"\"}}, \"*\")"
      ],
      "text/plain": [
       "<IPython.core.display.Javascript object>"
      ]
     },
     "metadata": {},
     "output_type": "display_data"
    },
    {
     "data": {
      "text/markdown": [
       "<span style=\"color:#33cc33\">Correct</span>"
      ],
      "text/plain": [
       "Correct"
      ]
     },
     "metadata": {},
     "output_type": "display_data"
    }
   ],
   "source": [
    "def to_smash(total_candies,friends = 3):\n",
    "    \"\"\"Return the number of leftover candies that must be smashed after distributing\n",
    "    the given number of candies evenly between 3 friends.\n",
    "    \n",
    "    >>> to_smash(91)\n",
    "    1\n",
    "    \"\"\"\n",
    "    smash_out = total_candies % friends\n",
    "    return smash_out\n",
    "to_smash(91,6)\n",
    "\n",
    "# Check your answer\n",
    "q3.check()"
   ]
  },
  {
   "cell_type": "code",
   "execution_count": 7,
   "id": "cc89cb19",
   "metadata": {
    "execution": {
     "iopub.execute_input": "2022-05-11T08:15:43.234437Z",
     "iopub.status.busy": "2022-05-11T08:15:43.234020Z",
     "iopub.status.idle": "2022-05-11T08:15:43.237402Z",
     "shell.execute_reply": "2022-05-11T08:15:43.236358Z"
    },
    "papermill": {
     "duration": 0.035546,
     "end_time": "2022-05-11T08:15:43.239722",
     "exception": false,
     "start_time": "2022-05-11T08:15:43.204176",
     "status": "completed"
    },
    "tags": []
   },
   "outputs": [],
   "source": [
    "#q3.hint()"
   ]
  },
  {
   "cell_type": "code",
   "execution_count": 8,
   "id": "b4f39ded",
   "metadata": {
    "execution": {
     "iopub.execute_input": "2022-05-11T08:15:43.297064Z",
     "iopub.status.busy": "2022-05-11T08:15:43.296787Z",
     "iopub.status.idle": "2022-05-11T08:15:43.300554Z",
     "shell.execute_reply": "2022-05-11T08:15:43.299777Z"
    },
    "papermill": {
     "duration": 0.035788,
     "end_time": "2022-05-11T08:15:43.303378",
     "exception": false,
     "start_time": "2022-05-11T08:15:43.267590",
     "status": "completed"
    },
    "tags": []
   },
   "outputs": [],
   "source": [
    "#q3.solution()"
   ]
  },
  {
   "cell_type": "markdown",
   "id": "c6ce81ee",
   "metadata": {
    "papermill": {
     "duration": 0.029422,
     "end_time": "2022-05-11T08:15:43.360341",
     "exception": false,
     "start_time": "2022-05-11T08:15:43.330919",
     "status": "completed"
    },
    "tags": []
   },
   "source": [
    "# 4. (Optional)\n",
    "\n",
    "It may not be fun, but reading and understanding error messages will be an important part of your Python career.\n",
    "\n",
    "Each code cell below contains some commented buggy code. For each cell...\n",
    "\n",
    "1. Read the code and predict what you think will happen when it's run.\n",
    "2. Then uncomment the code and run it to see what happens. (**Tip**: In the kernel editor, you can highlight several lines and press `ctrl`+`/` to toggle commenting.)\n",
    "3. Fix the code (so that it accomplishes its intended purpose without throwing an exception)\n",
    "\n",
    "<!-- TODO: should this be autochecked? Delta is probably pretty small. -->"
   ]
  },
  {
   "cell_type": "code",
   "execution_count": 9,
   "id": "59eca768",
   "metadata": {
    "execution": {
     "iopub.execute_input": "2022-05-11T08:15:43.416807Z",
     "iopub.status.busy": "2022-05-11T08:15:43.416414Z",
     "iopub.status.idle": "2022-05-11T08:15:43.423028Z",
     "shell.execute_reply": "2022-05-11T08:15:43.422398Z"
    },
    "papermill": {
     "duration": 0.036553,
     "end_time": "2022-05-11T08:15:43.424726",
     "exception": false,
     "start_time": "2022-05-11T08:15:43.388173",
     "status": "completed"
    },
    "tags": []
   },
   "outputs": [
    {
     "data": {
      "text/plain": [
       "10.0"
      ]
     },
     "execution_count": 9,
     "metadata": {},
     "output_type": "execute_result"
    }
   ],
   "source": [
    "def ruound_to_two_places(value):\n",
    "    return round (value, ndigits = 2)\n",
    "\n",
    "ruound_to_two_places(9.9999)\n"
   ]
  },
  {
   "cell_type": "code",
   "execution_count": 10,
   "id": "95f6b0c7",
   "metadata": {
    "execution": {
     "iopub.execute_input": "2022-05-11T08:15:43.483121Z",
     "iopub.status.busy": "2022-05-11T08:15:43.482500Z",
     "iopub.status.idle": "2022-05-11T08:15:43.488793Z",
     "shell.execute_reply": "2022-05-11T08:15:43.487133Z"
    },
    "papermill": {
     "duration": 0.037899,
     "end_time": "2022-05-11T08:15:43.491049",
     "exception": false,
     "start_time": "2022-05-11T08:15:43.453150",
     "status": "completed"
    },
    "tags": []
   },
   "outputs": [
    {
     "name": "stdout",
     "output_type": "stream",
     "text": [
      "5\n"
     ]
    }
   ],
   "source": [
    "x = -10\n",
    "y = 5\n",
    "# # Which of the two variables above has the smallest absolute value?\n",
    "smallest_abs = min(abs(x),abs(y))\n",
    "print (smallest_abs)"
   ]
  },
  {
   "cell_type": "code",
   "execution_count": 11,
   "id": "e5abe94f",
   "metadata": {
    "execution": {
     "iopub.execute_input": "2022-05-11T08:15:43.549538Z",
     "iopub.status.busy": "2022-05-11T08:15:43.548773Z",
     "iopub.status.idle": "2022-05-11T08:15:43.552572Z",
     "shell.execute_reply": "2022-05-11T08:15:43.552199Z"
    },
    "papermill": {
     "duration": 0.035897,
     "end_time": "2022-05-11T08:15:43.555226",
     "exception": false,
     "start_time": "2022-05-11T08:15:43.519329",
     "status": "completed"
    },
    "tags": []
   },
   "outputs": [
    {
     "name": "stdout",
     "output_type": "stream",
     "text": [
      "5\n"
     ]
    }
   ],
   "source": [
    "def f(x):\n",
    "    y = abs(x)\n",
    "    return y\n",
    "\n",
    "print(f(-5))"
   ]
  },
  {
   "cell_type": "markdown",
   "id": "98221c19",
   "metadata": {
    "papermill": {
     "duration": 0.028122,
     "end_time": "2022-05-11T08:15:43.613150",
     "exception": false,
     "start_time": "2022-05-11T08:15:43.585028",
     "status": "completed"
    },
    "tags": []
   },
   "source": [
    "# Keep Going\n",
    "\n",
    "Nice job with the code. Next up, you'll learn about *conditionals*, which you'll need to **[write interesting programs](https://www.kaggle.com/colinmorris/booleans-and-conditionals)**. "
   ]
  },
  {
   "cell_type": "markdown",
   "id": "555b103f",
   "metadata": {
    "papermill": {
     "duration": 0.028535,
     "end_time": "2022-05-11T08:15:43.670106",
     "exception": false,
     "start_time": "2022-05-11T08:15:43.641571",
     "status": "completed"
    },
    "tags": []
   },
   "source": [
    "---\n",
    "\n",
    "\n",
    "\n",
    "\n",
    "*Have questions or comments? Visit the [course discussion forum](https://www.kaggle.com/learn/python/discussion) to chat with other learners.*"
   ]
  }
 ],
 "metadata": {
  "kernelspec": {
   "display_name": "Python 3",
   "language": "python",
   "name": "python3"
  },
  "language_info": {
   "codemirror_mode": {
    "name": "ipython",
    "version": 3
   },
   "file_extension": ".py",
   "mimetype": "text/x-python",
   "name": "python",
   "nbconvert_exporter": "python",
   "pygments_lexer": "ipython3",
   "version": "3.7.12"
  },
  "papermill": {
   "default_parameters": {},
   "duration": 11.010945,
   "end_time": "2022-05-11T08:15:44.420393",
   "environment_variables": {},
   "exception": null,
   "input_path": "__notebook__.ipynb",
   "output_path": "__notebook__.ipynb",
   "parameters": {},
   "start_time": "2022-05-11T08:15:33.409448",
   "version": "2.3.4"
  }
 },
 "nbformat": 4,
 "nbformat_minor": 5
}
