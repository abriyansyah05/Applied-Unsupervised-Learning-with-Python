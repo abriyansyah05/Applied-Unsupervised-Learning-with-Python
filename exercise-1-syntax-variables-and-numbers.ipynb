{
 "cells": [
  {
   "cell_type": "markdown",
   "id": "c3453e6e",
   "metadata": {
    "papermill": {
     "duration": 0.020689,
     "end_time": "2022-05-11T07:04:38.424869",
     "exception": false,
     "start_time": "2022-05-11T07:04:38.404180",
     "status": "completed"
    },
    "tags": []
   },
   "source": [
    "**This notebook is an exercise in the [Python](https://www.kaggle.com/learn/python) course.  You can reference the tutorial at [this link](https://www.kaggle.com/colinmorris/hello-python).**\n",
    "\n",
    "---\n"
   ]
  },
  {
   "cell_type": "code",
   "execution_count": 1,
   "id": "787965a3",
   "metadata": {
    "execution": {
     "iopub.execute_input": "2022-05-11T07:04:38.464832Z",
     "iopub.status.busy": "2022-05-11T07:04:38.464445Z",
     "iopub.status.idle": "2022-05-11T07:04:38.474270Z",
     "shell.execute_reply": "2022-05-11T07:04:38.473133Z"
    },
    "papermill": {
     "duration": 0.032711,
     "end_time": "2022-05-11T07:04:38.476540",
     "exception": false,
     "start_time": "2022-05-11T07:04:38.443829",
     "status": "completed"
    },
    "tags": []
   },
   "outputs": [
    {
     "name": "stdout",
     "output_type": "stream",
     "text": [
      "GG GG GG GG \n"
     ]
    }
   ],
   "source": [
    "print(\"GG \"*4)"
   ]
  },
  {
   "cell_type": "markdown",
   "id": "7523873d",
   "metadata": {
    "papermill": {
     "duration": 0.018562,
     "end_time": "2022-05-11T07:04:38.515124",
     "exception": false,
     "start_time": "2022-05-11T07:04:38.496562",
     "status": "completed"
    },
    "tags": []
   },
   "source": [
    "Welcome to your first set of Python coding problems.  If this is your first time using Kaggle Notebooks, welcome! \n",
    "\n",
    "Notebooks are composed of blocks (called \"cells\") of text and code. Each of these is editable, though you'll mainly be editing the code cells to answer some questions.\n",
    "\n",
    "To get started, try running the code cell below (by pressing the ► button, or clicking on the cell and pressing ctrl+enter on your keyboard)."
   ]
  },
  {
   "cell_type": "code",
   "execution_count": 2,
   "id": "8b41d914",
   "metadata": {
    "execution": {
     "iopub.execute_input": "2022-05-11T07:04:38.560029Z",
     "iopub.status.busy": "2022-05-11T07:04:38.559401Z",
     "iopub.status.idle": "2022-05-11T07:04:38.564162Z",
     "shell.execute_reply": "2022-05-11T07:04:38.563075Z"
    },
    "papermill": {
     "duration": 0.029658,
     "end_time": "2022-05-11T07:04:38.566138",
     "exception": false,
     "start_time": "2022-05-11T07:04:38.536480",
     "status": "completed"
    },
    "tags": []
   },
   "outputs": [
    {
     "name": "stdout",
     "output_type": "stream",
     "text": [
      "You've successfully run some Python code\n",
      "Congratulations!\n"
     ]
    }
   ],
   "source": [
    "print(\"You've successfully run some Python code\")\n",
    "print(\"Congratulations!\")"
   ]
  },
  {
   "cell_type": "markdown",
   "id": "e224bdcf",
   "metadata": {
    "papermill": {
     "duration": 0.028801,
     "end_time": "2022-05-11T07:04:38.621018",
     "exception": false,
     "start_time": "2022-05-11T07:04:38.592217",
     "status": "completed"
    },
    "tags": []
   },
   "source": [
    "Try adding another line of code in the cell above and re-running it. \n",
    "\n",
    "Now let's get a little fancier:  Add a new code cell by clicking on an existing code cell, hitting the escape key, and then hitting the `a` or `b` key.  The `a` key will add a cell above the current cell, and `b` adds a cell below.\n",
    "\n",
    "Great! Now you know how to use Notebooks.\n",
    "\n",
    "Each hands-on exercise starts by setting up our feedback and code checking mechanism. Run the code cell below to do that. Then you'll be ready to move on to question 0."
   ]
  },
  {
   "cell_type": "code",
   "execution_count": 3,
   "id": "9ce1ab99",
   "metadata": {
    "_kg_hide-input": true,
    "_kg_hide-output": true,
    "execution": {
     "iopub.execute_input": "2022-05-11T07:04:38.664087Z",
     "iopub.status.busy": "2022-05-11T07:04:38.663519Z",
     "iopub.status.idle": "2022-05-11T07:04:38.707914Z",
     "shell.execute_reply": "2022-05-11T07:04:38.707035Z"
    },
    "papermill": {
     "duration": 0.070628,
     "end_time": "2022-05-11T07:04:38.710569",
     "exception": false,
     "start_time": "2022-05-11T07:04:38.639941",
     "status": "completed"
    },
    "tags": []
   },
   "outputs": [
    {
     "name": "stdout",
     "output_type": "stream",
     "text": [
      "Setup complete! You're ready to start question 0.\n"
     ]
    }
   ],
   "source": [
    "from learntools.core import binder; binder.bind(globals())\n",
    "from learntools.python.ex1 import *\n",
    "print(\"Setup complete! You're ready to start question 0.\")"
   ]
  },
  {
   "cell_type": "markdown",
   "id": "d9248086",
   "metadata": {
    "papermill": {
     "duration": 0.019459,
     "end_time": "2022-05-11T07:04:38.751011",
     "exception": false,
     "start_time": "2022-05-11T07:04:38.731552",
     "status": "completed"
    },
    "tags": []
   },
   "source": [
    "# 0.\n",
    "\n",
    "*This is a silly question intended as an introduction to the format we use for hands-on exercises throughout all Kaggle courses.*\n",
    "\n",
    "**What is your favorite color? **\n",
    "\n",
    "To complete this question, create a variable called `color` in the cell below with an appropriate value. The function call `q0.check()` (which we've already provided in the cell below) will check your answer."
   ]
  },
  {
   "cell_type": "code",
   "execution_count": 4,
   "id": "d37689a4",
   "metadata": {
    "execution": {
     "iopub.execute_input": "2022-05-11T07:04:38.795101Z",
     "iopub.status.busy": "2022-05-11T07:04:38.794729Z",
     "iopub.status.idle": "2022-05-11T07:04:38.804197Z",
     "shell.execute_reply": "2022-05-11T07:04:38.803342Z"
    },
    "papermill": {
     "duration": 0.033468,
     "end_time": "2022-05-11T07:04:38.806142",
     "exception": false,
     "start_time": "2022-05-11T07:04:38.772674",
     "status": "completed"
    },
    "tags": []
   },
   "outputs": [
    {
     "data": {
      "application/javascript": [
       "parent.postMessage({\"jupyterEvent\": \"custom.exercise_interaction\", \"data\": {\"outcomeType\": 4, \"interactionType\": 1, \"questionType\": 2, \"questionId\": \"0_ExerciseFormatTutorial\", \"learnToolsVersion\": \"0.3.4\", \"valueTowardsCompletion\": 0.0, \"failureMessage\": \"\", \"exceptionClass\": \"\", \"trace\": \"\"}}, \"*\")"
      ],
      "text/plain": [
       "<IPython.core.display.Javascript object>"
      ]
     },
     "metadata": {},
     "output_type": "display_data"
    },
    {
     "data": {
      "text/markdown": [
       "<span style=\"color:#ccaa33\">Check:</span> When you've updated the starter code, `check()` will tell you whether your code is correct. Remember, you must create the following variable: `color`"
      ],
      "text/plain": [
       "Check: When you've updated the starter code, `check()` will tell you whether your code is correct. Remember, you must create the following variable: `color`"
      ]
     },
     "metadata": {},
     "output_type": "display_data"
    }
   ],
   "source": [
    "# create a variable called color with an appropriate value on the line below\n",
    "# (Remember, strings in Python must be enclosed in 'single' or \"double\" quotes)\n",
    "____\n",
    "\n",
    "# Check your answer\n",
    "q0.check()"
   ]
  },
  {
   "cell_type": "markdown",
   "id": "9f59a4f4",
   "metadata": {
    "papermill": {
     "duration": 0.021279,
     "end_time": "2022-05-11T07:04:38.848880",
     "exception": false,
     "start_time": "2022-05-11T07:04:38.827601",
     "status": "completed"
    },
    "tags": []
   },
   "source": [
    "Didn't get the right answer? How do you not even know your own favorite color?!\n",
    "\n",
    "Delete the `#` in the line below to make one of the lines run. You can choose between getting a hint or the full answer by choosing which line to remove the `#` from. \n",
    "\n",
    "Removing the `#` is called uncommenting, because it changes that line from a \"comment\" which Python doesn't run to code, which Python does run."
   ]
  },
  {
   "cell_type": "code",
   "execution_count": 5,
   "id": "96c3cc91",
   "metadata": {
    "execution": {
     "iopub.execute_input": "2022-05-11T07:04:38.892783Z",
     "iopub.status.busy": "2022-05-11T07:04:38.891938Z",
     "iopub.status.idle": "2022-05-11T07:04:38.895867Z",
     "shell.execute_reply": "2022-05-11T07:04:38.894681Z"
    },
    "papermill": {
     "duration": 0.028084,
     "end_time": "2022-05-11T07:04:38.897769",
     "exception": false,
     "start_time": "2022-05-11T07:04:38.869685",
     "status": "completed"
    },
    "tags": []
   },
   "outputs": [],
   "source": [
    "#q0.hint()\n",
    "#q0.solution()"
   ]
  },
  {
   "cell_type": "markdown",
   "id": "41007b38",
   "metadata": {
    "papermill": {
     "duration": 0.020354,
     "end_time": "2022-05-11T07:04:38.939597",
     "exception": false,
     "start_time": "2022-05-11T07:04:38.919243",
     "status": "completed"
    },
    "tags": []
   },
   "source": [
    "The upcoming questions work the same way. The only thing that will change are the question numbers. For the next question, you'll call `q1.check()`, `q1.hint()`, `q1.solution()`, for question 2, you'll call `q2.check()`, and so on."
   ]
  },
  {
   "cell_type": "markdown",
   "id": "396ec60a",
   "metadata": {
    "papermill": {
     "duration": 0.02075,
     "end_time": "2022-05-11T07:04:38.981640",
     "exception": false,
     "start_time": "2022-05-11T07:04:38.960890",
     "status": "completed"
    },
    "tags": []
   },
   "source": [
    "<hr/>\n",
    "\n",
    "# 1.\n",
    "\n",
    "Complete the code below. In case it's helpful, here is the table of available arithmetic operations:\n",
    "\n",
    "\n",
    "\n",
    "| Operator     | Name           | Description                                            |\n",
    "|--------------|----------------|--------------------------------------------------------|\n",
    "| ``a + b``    | Addition       | Sum of ``a`` and ``b``                                 |\n",
    "| ``a - b``    | Subtraction    | Difference of ``a`` and ``b``                          |\n",
    "| ``a * b``    | Multiplication | Product of ``a`` and ``b``                             |\n",
    "| ``a / b``    | True division  | Quotient of ``a`` and ``b``                            |\n",
    "| ``a // b``   | Floor division | Quotient of ``a`` and ``b``, removing fractional parts |\n",
    "| ``a % b``    | Modulus        | Integer remainder after division of ``a`` by ``b``     |\n",
    "| ``a ** b``   | Exponentiation | ``a`` raised to the power of ``b``                     |\n",
    "| ``-a``       | Negation       | The negative of ``a``                                  |\n",
    "\n",
    "<span style=\"display:none\"></span>\n"
   ]
  },
  {
   "cell_type": "code",
   "execution_count": 6,
   "id": "83f16c49",
   "metadata": {
    "execution": {
     "iopub.execute_input": "2022-05-11T07:04:39.031431Z",
     "iopub.status.busy": "2022-05-11T07:04:39.030991Z",
     "iopub.status.idle": "2022-05-11T07:04:39.039789Z",
     "shell.execute_reply": "2022-05-11T07:04:39.039088Z"
    },
    "papermill": {
     "duration": 0.034411,
     "end_time": "2022-05-11T07:04:39.042517",
     "exception": false,
     "start_time": "2022-05-11T07:04:39.008106",
     "status": "completed"
    },
    "tags": []
   },
   "outputs": [
    {
     "data": {
      "application/javascript": [
       "parent.postMessage({\"jupyterEvent\": \"custom.exercise_interaction\", \"data\": {\"outcomeType\": 1, \"valueTowardsCompletion\": 0.25, \"interactionType\": 1, \"questionType\": 1, \"questionId\": \"1_CircleArea\", \"learnToolsVersion\": \"0.3.4\", \"failureMessage\": \"\", \"exceptionClass\": \"\", \"trace\": \"\"}}, \"*\")"
      ],
      "text/plain": [
       "<IPython.core.display.Javascript object>"
      ]
     },
     "metadata": {},
     "output_type": "display_data"
    },
    {
     "data": {
      "text/markdown": [
       "<span style=\"color:#33cc33\">Correct</span>"
      ],
      "text/plain": [
       "Correct"
      ]
     },
     "metadata": {},
     "output_type": "display_data"
    }
   ],
   "source": [
    "pi = 3.14159 # approximate\n",
    "diameter = 3\n",
    "\n",
    "# Create a variable called 'radius' equal to half the diameter\n",
    "____\n",
    "radius = diameter/2\n",
    "\n",
    "# Create a variable called 'area', using the formula for the area of a circle: pi times the radius squared\n",
    "____\n",
    "area =  pi * (radius**2)\n",
    "\n",
    "# Check your answer\n",
    "q1.check()"
   ]
  },
  {
   "cell_type": "code",
   "execution_count": 7,
   "id": "2585e0da",
   "metadata": {
    "execution": {
     "iopub.execute_input": "2022-05-11T07:04:39.092583Z",
     "iopub.status.busy": "2022-05-11T07:04:39.092026Z",
     "iopub.status.idle": "2022-05-11T07:04:39.096120Z",
     "shell.execute_reply": "2022-05-11T07:04:39.095163Z"
    },
    "papermill": {
     "duration": 0.033641,
     "end_time": "2022-05-11T07:04:39.098361",
     "exception": false,
     "start_time": "2022-05-11T07:04:39.064720",
     "status": "completed"
    },
    "tags": []
   },
   "outputs": [],
   "source": [
    "# Uncomment and run the lines below if you need help.\n",
    "#q1.hint()\n",
    "#q1.solution()"
   ]
  },
  {
   "cell_type": "markdown",
   "id": "1622fd12",
   "metadata": {
    "papermill": {
     "duration": 0.023026,
     "end_time": "2022-05-11T07:04:39.146681",
     "exception": false,
     "start_time": "2022-05-11T07:04:39.123655",
     "status": "completed"
    },
    "tags": []
   },
   "source": [
    "<hr/>\n",
    "\n",
    "# 2.\n",
    "\n",
    "Add code to the following cell to swap variables `a` and `b` (so that `a` refers to the object previously referred to by `b` and vice versa)."
   ]
  },
  {
   "cell_type": "code",
   "execution_count": 8,
   "id": "ac54a18d",
   "metadata": {
    "execution": {
     "iopub.execute_input": "2022-05-11T07:04:39.192940Z",
     "iopub.status.busy": "2022-05-11T07:04:39.192469Z",
     "iopub.status.idle": "2022-05-11T07:04:39.201830Z",
     "shell.execute_reply": "2022-05-11T07:04:39.201150Z"
    },
    "papermill": {
     "duration": 0.035214,
     "end_time": "2022-05-11T07:04:39.203684",
     "exception": false,
     "start_time": "2022-05-11T07:04:39.168470",
     "status": "completed"
    },
    "tags": []
   },
   "outputs": [
    {
     "data": {
      "application/javascript": [
       "parent.postMessage({\"jupyterEvent\": \"custom.exercise_interaction\", \"data\": {\"outcomeType\": 1, \"valueTowardsCompletion\": 0.25, \"interactionType\": 1, \"questionType\": 2, \"questionId\": \"2_VariableSwap\", \"learnToolsVersion\": \"0.3.4\", \"failureMessage\": \"\", \"exceptionClass\": \"\", \"trace\": \"\"}}, \"*\")"
      ],
      "text/plain": [
       "<IPython.core.display.Javascript object>"
      ]
     },
     "metadata": {},
     "output_type": "display_data"
    },
    {
     "data": {
      "text/markdown": [
       "<span style=\"color:#33cc33\">Correct:</span> \n",
       "\n",
       "The most straightforward solution is to use a third variable to temporarily store one of the old values. e.g.:\n",
       "\n",
       "    tmp = a\n",
       "    a = b\n",
       "    b = tmp\n",
       "\n",
       "If you've read lots of Python code, you might have seen the following trick to swap two variables in one line:\n",
       "\n",
       "    a, b = b, a\n",
       "\n",
       "We'll demystify this bit of Python magic later when we talk about *tuples*."
      ],
      "text/plain": [
       "Correct: \n",
       "\n",
       "The most straightforward solution is to use a third variable to temporarily store one of the old values. e.g.:\n",
       "\n",
       "    tmp = a\n",
       "    a = b\n",
       "    b = tmp\n",
       "\n",
       "If you've read lots of Python code, you might have seen the following trick to swap two variables in one line:\n",
       "\n",
       "    a, b = b, a\n",
       "\n",
       "We'll demystify this bit of Python magic later when we talk about *tuples*."
      ]
     },
     "metadata": {},
     "output_type": "display_data"
    }
   ],
   "source": [
    "########### Setup code - don't touch this part ######################\n",
    "# If you're curious, these are examples of lists. We'll talk about \n",
    "# them in depth a few lessons from now. For now, just know that they're\n",
    "# yet another type of Python object, like int or float.\n",
    "a = [1, 2, 3]\n",
    "b = [3, 2, 1]\n",
    "q2.store_original_ids()\n",
    "######################################################################\n",
    "\n",
    "# Your code goes here. Swap the values to which a and b refer.\n",
    "# If you get stuck, you can always uncomment one or both of the lines in\n",
    "# the next cell for a hint, or to peek at the solution.\n",
    "\n",
    "######################################################################\n",
    "value = a\n",
    "a = b\n",
    "b = value\n",
    "\n",
    "\n",
    "\n",
    "# Check your answer\n",
    "q2.check()"
   ]
  },
  {
   "cell_type": "code",
   "execution_count": 9,
   "id": "856dfc41",
   "metadata": {
    "execution": {
     "iopub.execute_input": "2022-05-11T07:04:39.251296Z",
     "iopub.status.busy": "2022-05-11T07:04:39.250681Z",
     "iopub.status.idle": "2022-05-11T07:04:39.255138Z",
     "shell.execute_reply": "2022-05-11T07:04:39.254106Z"
    },
    "papermill": {
     "duration": 0.030768,
     "end_time": "2022-05-11T07:04:39.257267",
     "exception": false,
     "start_time": "2022-05-11T07:04:39.226499",
     "status": "completed"
    },
    "tags": []
   },
   "outputs": [],
   "source": [
    "#q2.hint()"
   ]
  },
  {
   "cell_type": "code",
   "execution_count": 10,
   "id": "14ef6449",
   "metadata": {
    "execution": {
     "iopub.execute_input": "2022-05-11T07:04:39.305484Z",
     "iopub.status.busy": "2022-05-11T07:04:39.305226Z",
     "iopub.status.idle": "2022-05-11T07:04:39.308036Z",
     "shell.execute_reply": "2022-05-11T07:04:39.307476Z"
    },
    "papermill": {
     "duration": 0.0283,
     "end_time": "2022-05-11T07:04:39.309737",
     "exception": false,
     "start_time": "2022-05-11T07:04:39.281437",
     "status": "completed"
    },
    "tags": []
   },
   "outputs": [],
   "source": [
    "#q2.solution()"
   ]
  },
  {
   "cell_type": "markdown",
   "id": "df1f7be5",
   "metadata": {
    "papermill": {
     "duration": 0.022226,
     "end_time": "2022-05-11T07:04:39.354711",
     "exception": false,
     "start_time": "2022-05-11T07:04:39.332485",
     "status": "completed"
    },
    "tags": []
   },
   "source": [
    "<hr/>\n",
    "\n",
    "# 3a.\n",
    "\n",
    "Add parentheses to the following expression so that it evaluates to 1."
   ]
  },
  {
   "cell_type": "code",
   "execution_count": 11,
   "id": "87749fd8",
   "metadata": {
    "execution": {
     "iopub.execute_input": "2022-05-11T07:04:39.401766Z",
     "iopub.status.busy": "2022-05-11T07:04:39.401517Z",
     "iopub.status.idle": "2022-05-11T07:04:39.406288Z",
     "shell.execute_reply": "2022-05-11T07:04:39.405393Z"
    },
    "papermill": {
     "duration": 0.030207,
     "end_time": "2022-05-11T07:04:39.407991",
     "exception": false,
     "start_time": "2022-05-11T07:04:39.377784",
     "status": "completed"
    },
    "tags": []
   },
   "outputs": [
    {
     "data": {
      "text/plain": [
       "1"
      ]
     },
     "execution_count": 11,
     "metadata": {},
     "output_type": "execute_result"
    }
   ],
   "source": [
    "(5 - 3 )// 2"
   ]
  },
  {
   "cell_type": "code",
   "execution_count": 12,
   "id": "f1462331",
   "metadata": {
    "execution": {
     "iopub.execute_input": "2022-05-11T07:04:39.455914Z",
     "iopub.status.busy": "2022-05-11T07:04:39.455660Z",
     "iopub.status.idle": "2022-05-11T07:04:39.458832Z",
     "shell.execute_reply": "2022-05-11T07:04:39.458220Z"
    },
    "papermill": {
     "duration": 0.029706,
     "end_time": "2022-05-11T07:04:39.460596",
     "exception": false,
     "start_time": "2022-05-11T07:04:39.430890",
     "status": "completed"
    },
    "tags": []
   },
   "outputs": [],
   "source": [
    "#q3.a.hint()"
   ]
  },
  {
   "cell_type": "code",
   "execution_count": 13,
   "id": "b81d514c",
   "metadata": {
    "execution": {
     "iopub.execute_input": "2022-05-11T07:04:39.508564Z",
     "iopub.status.busy": "2022-05-11T07:04:39.508176Z",
     "iopub.status.idle": "2022-05-11T07:04:39.513634Z",
     "shell.execute_reply": "2022-05-11T07:04:39.513135Z"
    },
    "papermill": {
     "duration": 0.03111,
     "end_time": "2022-05-11T07:04:39.515221",
     "exception": false,
     "start_time": "2022-05-11T07:04:39.484111",
     "status": "completed"
    },
    "tags": []
   },
   "outputs": [
    {
     "data": {
      "application/javascript": [
       "parent.postMessage({\"jupyterEvent\": \"custom.exercise_interaction\", \"data\": {\"interactionType\": 3, \"questionType\": 4, \"questionId\": \"3.1_ArithmeticParensEasy\", \"learnToolsVersion\": \"0.3.4\", \"valueTowardsCompletion\": 0.0, \"failureMessage\": \"\", \"exceptionClass\": \"\", \"trace\": \"\", \"outcomeType\": 4}}, \"*\")"
      ],
      "text/plain": [
       "<IPython.core.display.Javascript object>"
      ]
     },
     "metadata": {},
     "output_type": "display_data"
    },
    {
     "data": {
      "text/markdown": [
       "<span style=\"color:#33cc99\">Solution:</span> \n",
       "```python\n",
       "(5 - 3) // 2\n",
       "```"
      ],
      "text/plain": [
       "Solution: \n",
       "```python\n",
       "(5 - 3) // 2\n",
       "```"
      ]
     },
     "metadata": {},
     "output_type": "display_data"
    }
   ],
   "source": [
    "# Check your answer (Run this code cell to receive credit!)\n",
    "q3.a.solution()"
   ]
  },
  {
   "cell_type": "markdown",
   "id": "e0772e91",
   "metadata": {
    "papermill": {
     "duration": 0.02469,
     "end_time": "2022-05-11T07:04:39.563831",
     "exception": false,
     "start_time": "2022-05-11T07:04:39.539141",
     "status": "completed"
    },
    "tags": []
   },
   "source": [
    "# 3b.  <span title=\"A bit spicy\" style=\"color: darkgreen \">🌶️</span>\n",
    "\n",
    "<small>Questions, like this one, marked a spicy pepper are a bit harder.</small>\n",
    "\n",
    "Add parentheses to the following expression so that it evaluates to 0."
   ]
  },
  {
   "cell_type": "code",
   "execution_count": 14,
   "id": "3da9e049",
   "metadata": {
    "execution": {
     "iopub.execute_input": "2022-05-11T07:04:39.614161Z",
     "iopub.status.busy": "2022-05-11T07:04:39.613851Z",
     "iopub.status.idle": "2022-05-11T07:04:39.618903Z",
     "shell.execute_reply": "2022-05-11T07:04:39.618281Z"
    },
    "papermill": {
     "duration": 0.032403,
     "end_time": "2022-05-11T07:04:39.620854",
     "exception": false,
     "start_time": "2022-05-11T07:04:39.588451",
     "status": "completed"
    },
    "tags": []
   },
   "outputs": [
    {
     "data": {
      "text/plain": [
       "0"
      ]
     },
     "execution_count": 14,
     "metadata": {},
     "output_type": "execute_result"
    }
   ],
   "source": [
    "(8 - 3) * (2 - (1 + 1))"
   ]
  },
  {
   "cell_type": "code",
   "execution_count": 15,
   "id": "4036bdcb",
   "metadata": {
    "execution": {
     "iopub.execute_input": "2022-05-11T07:04:39.671485Z",
     "iopub.status.busy": "2022-05-11T07:04:39.671096Z",
     "iopub.status.idle": "2022-05-11T07:04:39.673805Z",
     "shell.execute_reply": "2022-05-11T07:04:39.673276Z"
    },
    "papermill": {
     "duration": 0.03039,
     "end_time": "2022-05-11T07:04:39.675563",
     "exception": false,
     "start_time": "2022-05-11T07:04:39.645173",
     "status": "completed"
    },
    "tags": []
   },
   "outputs": [],
   "source": [
    "#q3.b.hint()"
   ]
  },
  {
   "cell_type": "code",
   "execution_count": 16,
   "id": "ee91c767",
   "metadata": {
    "execution": {
     "iopub.execute_input": "2022-05-11T07:04:39.728613Z",
     "iopub.status.busy": "2022-05-11T07:04:39.728189Z",
     "iopub.status.idle": "2022-05-11T07:04:39.735215Z",
     "shell.execute_reply": "2022-05-11T07:04:39.734119Z"
    },
    "papermill": {
     "duration": 0.036823,
     "end_time": "2022-05-11T07:04:39.737461",
     "exception": false,
     "start_time": "2022-05-11T07:04:39.700638",
     "status": "completed"
    },
    "tags": []
   },
   "outputs": [
    {
     "data": {
      "application/javascript": [
       "parent.postMessage({\"jupyterEvent\": \"custom.exercise_interaction\", \"data\": {\"interactionType\": 3, \"questionType\": 4, \"questionId\": \"3.2_ArithmeticParensHard\", \"learnToolsVersion\": \"0.3.4\", \"valueTowardsCompletion\": 0.0, \"failureMessage\": \"\", \"exceptionClass\": \"\", \"trace\": \"\", \"outcomeType\": 4}}, \"*\")"
      ],
      "text/plain": [
       "<IPython.core.display.Javascript object>"
      ]
     },
     "metadata": {},
     "output_type": "display_data"
    },
    {
     "data": {
      "text/markdown": [
       "<span style=\"color:#33cc99\">Solution:</span> `(8 - 3) * (2 - (1 + 1))` is one solution. There may be others."
      ],
      "text/plain": [
       "Solution: `(8 - 3) * (2 - (1 + 1))` is one solution. There may be others."
      ]
     },
     "metadata": {},
     "output_type": "display_data"
    }
   ],
   "source": [
    "# Check your answer (Run this code cell to receive credit!)\n",
    "q3.b.solution()"
   ]
  },
  {
   "cell_type": "markdown",
   "id": "c8616608",
   "metadata": {
    "papermill": {
     "duration": 0.02586,
     "end_time": "2022-05-11T07:04:39.790624",
     "exception": false,
     "start_time": "2022-05-11T07:04:39.764764",
     "status": "completed"
    },
    "tags": []
   },
   "source": [
    "<hr/>\n",
    "\n",
    "# 4. \n",
    "Alice, Bob and Carol have agreed to pool their Halloween candy and split it evenly among themselves.\n",
    "For the sake of their friendship, any candies left over will be smashed. For example, if they collectively\n",
    "bring home 91 candies, they'll take 30 each and smash 1.\n",
    "\n",
    "Write an arithmetic expression below to calculate how many candies they must smash for a given haul."
   ]
  },
  {
   "cell_type": "code",
   "execution_count": 17,
   "id": "36539109",
   "metadata": {
    "execution": {
     "iopub.execute_input": "2022-05-11T07:04:39.845404Z",
     "iopub.status.busy": "2022-05-11T07:04:39.845100Z",
     "iopub.status.idle": "2022-05-11T07:04:39.854521Z",
     "shell.execute_reply": "2022-05-11T07:04:39.853349Z"
    },
    "papermill": {
     "duration": 0.039034,
     "end_time": "2022-05-11T07:04:39.856658",
     "exception": false,
     "start_time": "2022-05-11T07:04:39.817624",
     "status": "completed"
    },
    "tags": []
   },
   "outputs": [
    {
     "name": "stdout",
     "output_type": "stream",
     "text": [
      "1\n"
     ]
    },
    {
     "data": {
      "application/javascript": [
       "parent.postMessage({\"jupyterEvent\": \"custom.exercise_interaction\", \"data\": {\"outcomeType\": 1, \"valueTowardsCompletion\": 0.25, \"interactionType\": 1, \"questionType\": 1, \"questionId\": \"4_CandySplitting\", \"learnToolsVersion\": \"0.3.4\", \"failureMessage\": \"\", \"exceptionClass\": \"\", \"trace\": \"\"}}, \"*\")"
      ],
      "text/plain": [
       "<IPython.core.display.Javascript object>"
      ]
     },
     "metadata": {},
     "output_type": "display_data"
    },
    {
     "data": {
      "text/markdown": [
       "<span style=\"color:#33cc33\">Correct</span>"
      ],
      "text/plain": [
       "Correct"
      ]
     },
     "metadata": {},
     "output_type": "display_data"
    }
   ],
   "source": [
    "# Variables representing the number of candies collected by alice, bob, and carol\n",
    "alice_candies = 121\n",
    "bob_candies = 77\n",
    "carol_candies = 109\n",
    "\n",
    "# Your code goes here! Replace the right-hand side of this assignment with an expression\n",
    "# involving alice_candies, bob_candies, and carol_candies\n",
    "\n",
    "to_smash = (alice_candies + bob_candies + carol_candies)%3\n",
    "print(to_smash)\n",
    "# Check your answer\n",
    "q4.check()"
   ]
  },
  {
   "cell_type": "code",
   "execution_count": 18,
   "id": "4cd4864e",
   "metadata": {
    "execution": {
     "iopub.execute_input": "2022-05-11T07:04:39.915181Z",
     "iopub.status.busy": "2022-05-11T07:04:39.914907Z",
     "iopub.status.idle": "2022-05-11T07:04:39.917843Z",
     "shell.execute_reply": "2022-05-11T07:04:39.917210Z"
    },
    "papermill": {
     "duration": 0.03413,
     "end_time": "2022-05-11T07:04:39.919603",
     "exception": false,
     "start_time": "2022-05-11T07:04:39.885473",
     "status": "completed"
    },
    "tags": []
   },
   "outputs": [],
   "source": [
    "#q4.hint()\n",
    "#q4.solution()"
   ]
  },
  {
   "cell_type": "markdown",
   "id": "e2e2c191",
   "metadata": {
    "papermill": {
     "duration": 0.026819,
     "end_time": "2022-05-11T07:04:39.973938",
     "exception": false,
     "start_time": "2022-05-11T07:04:39.947119",
     "status": "completed"
    },
    "tags": []
   },
   "source": [
    "# Keep Going\n",
    "\n",
    "Next up, you'll **[learn to write new functions and understand functions others write](https://www.kaggle.com/colinmorris/functions-and-getting-help)**. This will make you at least 10 times more productive as a Python programmer. "
   ]
  },
  {
   "cell_type": "markdown",
   "id": "67872512",
   "metadata": {
    "papermill": {
     "duration": 0.026576,
     "end_time": "2022-05-11T07:04:40.029557",
     "exception": false,
     "start_time": "2022-05-11T07:04:40.002981",
     "status": "completed"
    },
    "tags": []
   },
   "source": [
    "---\n",
    "\n",
    "\n",
    "\n",
    "\n",
    "*Have questions or comments? Visit the [course discussion forum](https://www.kaggle.com/learn/python/discussion) to chat with other learners.*"
   ]
  }
 ],
 "metadata": {
  "kernelspec": {
   "display_name": "Python 3",
   "language": "python",
   "name": "python3"
  },
  "language_info": {
   "codemirror_mode": {
    "name": "ipython",
    "version": 3
   },
   "file_extension": ".py",
   "mimetype": "text/x-python",
   "name": "python",
   "nbconvert_exporter": "python",
   "pygments_lexer": "ipython3",
   "version": "3.7.12"
  },
  "papermill": {
   "default_parameters": {},
   "duration": 10.889251,
   "end_time": "2022-05-11T07:04:40.676987",
   "environment_variables": {},
   "exception": null,
   "input_path": "__notebook__.ipynb",
   "output_path": "__notebook__.ipynb",
   "parameters": {},
   "start_time": "2022-05-11T07:04:29.787736",
   "version": "2.3.4"
  }
 },
 "nbformat": 4,
 "nbformat_minor": 5
}
