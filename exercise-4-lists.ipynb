{
 "cells": [
  {
   "cell_type": "markdown",
   "id": "2ec35af3",
   "metadata": {
    "papermill": {
     "duration": 0.011117,
     "end_time": "2022-05-29T14:24:53.234170",
     "exception": false,
     "start_time": "2022-05-29T14:24:53.223053",
     "status": "completed"
    },
    "tags": []
   },
   "source": [
    "**This notebook is an exercise in the [Python](https://www.kaggle.com/learn/python) course.  You can reference the tutorial at [this link](https://www.kaggle.com/colinmorris/lists).**\n",
    "\n",
    "---\n"
   ]
  },
  {
   "cell_type": "markdown",
   "id": "b247c232",
   "metadata": {
    "papermill": {
     "duration": 0.005492,
     "end_time": "2022-05-29T14:24:53.245739",
     "exception": false,
     "start_time": "2022-05-29T14:24:53.240247",
     "status": "completed"
    },
    "tags": []
   },
   "source": [
    "Things get more interesting with lists. You'll apply your new knowledge to solve the questions below. Remember to run the following cell first."
   ]
  },
  {
   "cell_type": "code",
   "execution_count": 1,
   "id": "5eb73cd8",
   "metadata": {
    "execution": {
     "iopub.execute_input": "2022-05-29T14:24:53.259353Z",
     "iopub.status.busy": "2022-05-29T14:24:53.258735Z",
     "iopub.status.idle": "2022-05-29T14:24:53.315195Z",
     "shell.execute_reply": "2022-05-29T14:24:53.314189Z"
    },
    "papermill": {
     "duration": 0.066437,
     "end_time": "2022-05-29T14:24:53.317998",
     "exception": false,
     "start_time": "2022-05-29T14:24:53.251561",
     "status": "completed"
    },
    "tags": []
   },
   "outputs": [
    {
     "name": "stdout",
     "output_type": "stream",
     "text": [
      "Setup complete.\n"
     ]
    }
   ],
   "source": [
    "from learntools.core import binder; binder.bind(globals())\n",
    "from learntools.python.ex4 import *\n",
    "print('Setup complete.')"
   ]
  },
  {
   "cell_type": "markdown",
   "id": "46e9a511",
   "metadata": {
    "papermill": {
     "duration": 0.005687,
     "end_time": "2022-05-29T14:24:53.330059",
     "exception": false,
     "start_time": "2022-05-29T14:24:53.324372",
     "status": "completed"
    },
    "tags": []
   },
   "source": [
    "# 1.\n",
    "\n",
    "Complete the function below according to its docstring."
   ]
  },
  {
   "cell_type": "code",
   "execution_count": 2,
   "id": "cbfc53ec",
   "metadata": {
    "execution": {
     "iopub.execute_input": "2022-05-29T14:24:53.344132Z",
     "iopub.status.busy": "2022-05-29T14:24:53.343427Z",
     "iopub.status.idle": "2022-05-29T14:24:53.354209Z",
     "shell.execute_reply": "2022-05-29T14:24:53.353442Z"
    },
    "papermill": {
     "duration": 0.020033,
     "end_time": "2022-05-29T14:24:53.356006",
     "exception": false,
     "start_time": "2022-05-29T14:24:53.335973",
     "status": "completed"
    },
    "tags": []
   },
   "outputs": [
    {
     "data": {
      "application/javascript": [
       "parent.postMessage({\"jupyterEvent\": \"custom.exercise_interaction\", \"data\": {\"outcomeType\": 1, \"valueTowardsCompletion\": 0.2, \"interactionType\": 1, \"questionType\": 2, \"questionId\": \"1_SelectSecondItem\", \"learnToolsVersion\": \"0.3.4\", \"failureMessage\": \"\", \"exceptionClass\": \"\", \"trace\": \"\"}}, \"*\")"
      ],
      "text/plain": [
       "<IPython.core.display.Javascript object>"
      ]
     },
     "metadata": {},
     "output_type": "display_data"
    },
    {
     "data": {
      "text/markdown": [
       "<span style=\"color:#33cc33\">Correct</span>"
      ],
      "text/plain": [
       "Correct"
      ]
     },
     "metadata": {},
     "output_type": "display_data"
    }
   ],
   "source": [
    "def select_second(L):\n",
    "    \"\"\"Return the second element of the given list. If the list has no second\n",
    "    element, return None.\n",
    "    \"\"\"\n",
    "    if len(L) > 1:\n",
    "        return L[1]\n",
    "    else:\n",
    "        return None\n",
    "#     return int(L[:1]) if len(L) > 1 else L == None\n",
    "\n",
    "select_second([1,2])\n",
    "# Check your answer\n",
    "q1.check()"
   ]
  },
  {
   "cell_type": "markdown",
   "id": "ba998db1",
   "metadata": {
    "papermill": {
     "duration": 0.005811,
     "end_time": "2022-05-29T14:24:53.368018",
     "exception": false,
     "start_time": "2022-05-29T14:24:53.362207",
     "status": "completed"
    },
    "tags": []
   },
   "source": []
  },
  {
   "cell_type": "code",
   "execution_count": 3,
   "id": "75978bf5",
   "metadata": {
    "collapsed": true,
    "execution": {
     "iopub.execute_input": "2022-05-29T14:24:53.381866Z",
     "iopub.status.busy": "2022-05-29T14:24:53.381476Z",
     "iopub.status.idle": "2022-05-29T14:24:53.385203Z",
     "shell.execute_reply": "2022-05-29T14:24:53.384478Z"
    },
    "jupyter": {
     "outputs_hidden": true
    },
    "papermill": {
     "duration": 0.013124,
     "end_time": "2022-05-29T14:24:53.387241",
     "exception": false,
     "start_time": "2022-05-29T14:24:53.374117",
     "status": "completed"
    },
    "tags": []
   },
   "outputs": [],
   "source": [
    "#q1.hint()\n",
    "#q1.solution()"
   ]
  },
  {
   "cell_type": "markdown",
   "id": "69559876",
   "metadata": {
    "papermill": {
     "duration": 0.006024,
     "end_time": "2022-05-29T14:24:53.399747",
     "exception": false,
     "start_time": "2022-05-29T14:24:53.393723",
     "status": "completed"
    },
    "tags": []
   },
   "source": [
    "# 2.\n",
    "\n",
    "You are analyzing sports teams.  Members of each team are stored in a list. The Coach is the first name in the list, the captain is the second name in the list, and other players are listed after that. \n",
    "These lists are stored in another list, which starts with the best team and proceeds through the list to the worst team last.  Complete the function below to select the **captain** of the worst team."
   ]
  },
  {
   "cell_type": "code",
   "execution_count": 4,
   "id": "d3c061c5",
   "metadata": {
    "execution": {
     "iopub.execute_input": "2022-05-29T14:24:53.414585Z",
     "iopub.status.busy": "2022-05-29T14:24:53.413845Z",
     "iopub.status.idle": "2022-05-29T14:24:53.422061Z",
     "shell.execute_reply": "2022-05-29T14:24:53.421248Z"
    },
    "papermill": {
     "duration": 0.018,
     "end_time": "2022-05-29T14:24:53.424039",
     "exception": false,
     "start_time": "2022-05-29T14:24:53.406039",
     "status": "completed"
    },
    "tags": []
   },
   "outputs": [
    {
     "data": {
      "application/javascript": [
       "parent.postMessage({\"jupyterEvent\": \"custom.exercise_interaction\", \"data\": {\"outcomeType\": 1, \"valueTowardsCompletion\": 0.2, \"interactionType\": 1, \"questionType\": 2, \"questionId\": \"2_LosingTeamCaptain\", \"learnToolsVersion\": \"0.3.4\", \"failureMessage\": \"\", \"exceptionClass\": \"\", \"trace\": \"\"}}, \"*\")"
      ],
      "text/plain": [
       "<IPython.core.display.Javascript object>"
      ]
     },
     "metadata": {},
     "output_type": "display_data"
    },
    {
     "data": {
      "text/markdown": [
       "<span style=\"color:#33cc33\">Correct</span>"
      ],
      "text/plain": [
       "Correct"
      ]
     },
     "metadata": {},
     "output_type": "display_data"
    }
   ],
   "source": [
    "def losing_team_captain(teams):\n",
    "    \"\"\"Given a list of teams, where each team is a list of names, return the 2nd player (captain)\n",
    "    from the last listed team\n",
    "    \"\"\"\n",
    "#     x = []\n",
    "    return teams[-1][1]\n",
    "#     pass\n",
    "\n",
    "# Check your answer\n",
    "q2.check()"
   ]
  },
  {
   "cell_type": "code",
   "execution_count": 5,
   "id": "9ed926bb",
   "metadata": {
    "execution": {
     "iopub.execute_input": "2022-05-29T14:24:53.440189Z",
     "iopub.status.busy": "2022-05-29T14:24:53.439250Z",
     "iopub.status.idle": "2022-05-29T14:24:53.443351Z",
     "shell.execute_reply": "2022-05-29T14:24:53.442576Z"
    },
    "papermill": {
     "duration": 0.014847,
     "end_time": "2022-05-29T14:24:53.445589",
     "exception": false,
     "start_time": "2022-05-29T14:24:53.430742",
     "status": "completed"
    },
    "tags": []
   },
   "outputs": [],
   "source": [
    "#q2.hint()\n",
    "# q2.solution()"
   ]
  },
  {
   "cell_type": "markdown",
   "id": "2a35acd6",
   "metadata": {
    "papermill": {
     "duration": 0.00614,
     "end_time": "2022-05-29T14:24:53.458279",
     "exception": false,
     "start_time": "2022-05-29T14:24:53.452139",
     "status": "completed"
    },
    "tags": []
   },
   "source": [
    "# 3.\n",
    "\n",
    "The next iteration of Mario Kart will feature an extra-infuriating new item, the *Purple Shell*. When used, it warps the last place racer into first place and the first place racer into last place. Complete the function below to implement the Purple Shell's effect."
   ]
  },
  {
   "cell_type": "code",
   "execution_count": 6,
   "id": "cd6c5eec",
   "metadata": {
    "execution": {
     "iopub.execute_input": "2022-05-29T14:24:53.473306Z",
     "iopub.status.busy": "2022-05-29T14:24:53.472664Z",
     "iopub.status.idle": "2022-05-29T14:24:53.481091Z",
     "shell.execute_reply": "2022-05-29T14:24:53.480334Z"
    },
    "papermill": {
     "duration": 0.018469,
     "end_time": "2022-05-29T14:24:53.483186",
     "exception": false,
     "start_time": "2022-05-29T14:24:53.464717",
     "status": "completed"
    },
    "tags": []
   },
   "outputs": [
    {
     "data": {
      "application/javascript": [
       "parent.postMessage({\"jupyterEvent\": \"custom.exercise_interaction\", \"data\": {\"outcomeType\": 1, \"valueTowardsCompletion\": 0.2, \"interactionType\": 1, \"questionType\": 2, \"questionId\": \"3_PurpleShell\", \"learnToolsVersion\": \"0.3.4\", \"failureMessage\": \"\", \"exceptionClass\": \"\", \"trace\": \"\"}}, \"*\")"
      ],
      "text/plain": [
       "<IPython.core.display.Javascript object>"
      ]
     },
     "metadata": {},
     "output_type": "display_data"
    },
    {
     "data": {
      "text/markdown": [
       "<span style=\"color:#33cc33\">Correct</span>"
      ],
      "text/plain": [
       "Correct"
      ]
     },
     "metadata": {},
     "output_type": "display_data"
    }
   ],
   "source": [
    "def purple_shell(racers):\n",
    "    \"\"\"Given a list of racers, set the first place racer (at the front of the list) to last\n",
    "    place and vice versa.\n",
    "    \n",
    "    >>> r = [\"Mario\", \"Bowser\", \"Luigi\"]\n",
    "    >>> purple_shell(r)\n",
    "    >>> r\n",
    "    [\"Luigi\", \"Bowser\", \"Mario\"]\n",
    "    \"\"\"\n",
    "    racers[0],racers[-1] = racers[-1],racers[0]\n",
    "\n",
    "# Check your answer\n",
    "q3.check()"
   ]
  },
  {
   "cell_type": "code",
   "execution_count": 7,
   "id": "04e9c566",
   "metadata": {
    "execution": {
     "iopub.execute_input": "2022-05-29T14:24:53.499484Z",
     "iopub.status.busy": "2022-05-29T14:24:53.499023Z",
     "iopub.status.idle": "2022-05-29T14:24:53.503408Z",
     "shell.execute_reply": "2022-05-29T14:24:53.502377Z"
    },
    "papermill": {
     "duration": 0.014822,
     "end_time": "2022-05-29T14:24:53.505433",
     "exception": false,
     "start_time": "2022-05-29T14:24:53.490611",
     "status": "completed"
    },
    "tags": []
   },
   "outputs": [],
   "source": [
    "#q3.hint()\n",
    "# q3.solution()"
   ]
  },
  {
   "cell_type": "markdown",
   "id": "962d6b1f",
   "metadata": {
    "papermill": {
     "duration": 0.006419,
     "end_time": "2022-05-29T14:24:53.518644",
     "exception": false,
     "start_time": "2022-05-29T14:24:53.512225",
     "status": "completed"
    },
    "tags": []
   },
   "source": [
    "# 4.\n",
    "\n",
    "What are the lengths of the following lists? Fill in the variable `lengths` with your predictions. (Try to make a prediction for each list *without* just calling `len()` on it.)"
   ]
  },
  {
   "cell_type": "code",
   "execution_count": 8,
   "id": "fa96e0b1",
   "metadata": {
    "execution": {
     "iopub.execute_input": "2022-05-29T14:24:53.533721Z",
     "iopub.status.busy": "2022-05-29T14:24:53.533093Z",
     "iopub.status.idle": "2022-05-29T14:24:53.542254Z",
     "shell.execute_reply": "2022-05-29T14:24:53.541551Z"
    },
    "papermill": {
     "duration": 0.018891,
     "end_time": "2022-05-29T14:24:53.544143",
     "exception": false,
     "start_time": "2022-05-29T14:24:53.525252",
     "status": "completed"
    },
    "tags": []
   },
   "outputs": [
    {
     "data": {
      "application/javascript": [
       "parent.postMessage({\"jupyterEvent\": \"custom.exercise_interaction\", \"data\": {\"outcomeType\": 1, \"valueTowardsCompletion\": 0.2, \"interactionType\": 1, \"questionType\": 1, \"questionId\": \"4_UnderstandLen\", \"learnToolsVersion\": \"0.3.4\", \"failureMessage\": \"\", \"exceptionClass\": \"\", \"trace\": \"\"}}, \"*\")"
      ],
      "text/plain": [
       "<IPython.core.display.Javascript object>"
      ]
     },
     "metadata": {},
     "output_type": "display_data"
    },
    {
     "data": {
      "text/markdown": [
       "<span style=\"color:#33cc33\">Correct:</span> \n",
       "\n",
       "\n",
       "- a: There are three items in this list. Nothing tricky yet.\n",
       "- b: The list `[2, 3]` counts as a single item. It has one item before it. So we have 2 items in the list\n",
       "- c: The empty list has 0 items\n",
       "- d: The expression is the same as the list `[2, 3]`, which has length 2."
      ],
      "text/plain": [
       "Correct: \n",
       "\n",
       "\n",
       "- a: There are three items in this list. Nothing tricky yet.\n",
       "- b: The list `[2, 3]` counts as a single item. It has one item before it. So we have 2 items in the list\n",
       "- c: The empty list has 0 items\n",
       "- d: The expression is the same as the list `[2, 3]`, which has length 2."
      ]
     },
     "metadata": {},
     "output_type": "display_data"
    }
   ],
   "source": [
    "a = [1, 2, 3]\n",
    "b = [1, [2, 3]]\n",
    "c = []\n",
    "d = [1, 2, 3][1:]\n",
    "\n",
    "# Put your predictions in the list below. Lengths should contain 4 numbers, the\n",
    "# first being the length of a, the second being the length of b and so on.\n",
    "lengths = [3,2,0,2]\n",
    "\n",
    "# Check your answer\n",
    "q4.check()"
   ]
  },
  {
   "cell_type": "code",
   "execution_count": 9,
   "id": "e9626283",
   "metadata": {
    "collapsed": true,
    "execution": {
     "iopub.execute_input": "2022-05-29T14:24:53.560308Z",
     "iopub.status.busy": "2022-05-29T14:24:53.559638Z",
     "iopub.status.idle": "2022-05-29T14:24:53.563176Z",
     "shell.execute_reply": "2022-05-29T14:24:53.562543Z"
    },
    "jupyter": {
     "outputs_hidden": true
    },
    "papermill": {
     "duration": 0.013881,
     "end_time": "2022-05-29T14:24:53.565180",
     "exception": false,
     "start_time": "2022-05-29T14:24:53.551299",
     "status": "completed"
    },
    "tags": []
   },
   "outputs": [],
   "source": [
    "# line below provides some explanation\n",
    "#q4.solution()"
   ]
  },
  {
   "cell_type": "markdown",
   "id": "8a46c5d7",
   "metadata": {
    "papermill": {
     "duration": 0.006995,
     "end_time": "2022-05-29T14:24:53.579177",
     "exception": false,
     "start_time": "2022-05-29T14:24:53.572182",
     "status": "completed"
    },
    "tags": []
   },
   "source": [
    "# 5. <span title=\"A bit spicy\" style=\"color: darkgreen \">🌶️</span>\n",
    "\n",
    "We're using lists to record people who attended our party and what order they arrived in. For example, the following list represents a party with 7 guests, in which Adela showed up first and Ford was the last to arrive:\n",
    "\n",
    "    party_attendees = ['Adela', 'Fleda', 'Owen', 'May', 'Mona', 'Gilbert', 'Ford']\n",
    "\n",
    "A guest is considered 'fashionably late' if they arrived after at least half of the party's guests. However, they must not be the very last guest (that's taking it too far). In the above example, Mona and Gilbert are the only guests who were fashionably late.\n",
    "\n",
    "Complete the function below which takes a list of party attendees as well as a person, and tells us whether that person is fashionably late."
   ]
  },
  {
   "cell_type": "code",
   "execution_count": 10,
   "id": "c0672c48",
   "metadata": {
    "execution": {
     "iopub.execute_input": "2022-05-29T14:24:53.594718Z",
     "iopub.status.busy": "2022-05-29T14:24:53.594270Z",
     "iopub.status.idle": "2022-05-29T14:24:53.603741Z",
     "shell.execute_reply": "2022-05-29T14:24:53.602905Z"
    },
    "papermill": {
     "duration": 0.019498,
     "end_time": "2022-05-29T14:24:53.605603",
     "exception": false,
     "start_time": "2022-05-29T14:24:53.586105",
     "status": "completed"
    },
    "tags": []
   },
   "outputs": [
    {
     "data": {
      "application/javascript": [
       "parent.postMessage({\"jupyterEvent\": \"custom.exercise_interaction\", \"data\": {\"outcomeType\": 1, \"valueTowardsCompletion\": 0.2, \"interactionType\": 1, \"questionType\": 2, \"questionId\": \"5_FashionablyLate\", \"learnToolsVersion\": \"0.3.4\", \"failureMessage\": \"\", \"exceptionClass\": \"\", \"trace\": \"\"}}, \"*\")"
      ],
      "text/plain": [
       "<IPython.core.display.Javascript object>"
      ]
     },
     "metadata": {},
     "output_type": "display_data"
    },
    {
     "data": {
      "text/markdown": [
       "<span style=\"color:#33cc33\">Correct</span>"
      ],
      "text/plain": [
       "Correct"
      ]
     },
     "metadata": {},
     "output_type": "display_data"
    }
   ],
   "source": [
    "def fashionably_late(arrivals, name):\n",
    "    \"\"\"Given an ordered list of arrivals to the party and a name, return whether the guest with that\n",
    "    name was fashionably late.\n",
    "    \"\"\"\n",
    "    check = arrivals.index(name)\n",
    "    return check >= len(arrivals)/2 and check != len(arrivals)-1\n",
    "\n",
    "# Check your answer\n",
    "q5.check()"
   ]
  },
  {
   "cell_type": "code",
   "execution_count": 11,
   "id": "aeaafc7e",
   "metadata": {
    "execution": {
     "iopub.execute_input": "2022-05-29T14:24:53.622191Z",
     "iopub.status.busy": "2022-05-29T14:24:53.621541Z",
     "iopub.status.idle": "2022-05-29T14:24:53.631665Z",
     "shell.execute_reply": "2022-05-29T14:24:53.630764Z"
    },
    "papermill": {
     "duration": 0.020717,
     "end_time": "2022-05-29T14:24:53.633631",
     "exception": false,
     "start_time": "2022-05-29T14:24:53.612914",
     "status": "completed"
    },
    "tags": []
   },
   "outputs": [
    {
     "data": {
      "application/javascript": [
       "parent.postMessage({\"jupyterEvent\": \"custom.exercise_interaction\", \"data\": {\"interactionType\": 2, \"questionType\": 2, \"questionId\": \"5_FashionablyLate\", \"learnToolsVersion\": \"0.3.4\", \"valueTowardsCompletion\": 0.0, \"failureMessage\": \"\", \"exceptionClass\": \"\", \"trace\": \"\", \"outcomeType\": 4}}, \"*\")"
      ],
      "text/plain": [
       "<IPython.core.display.Javascript object>"
      ]
     },
     "metadata": {},
     "output_type": "display_data"
    },
    {
     "data": {
      "text/markdown": [
       "<span style=\"color:#3366cc\">Hint:</span> Use the index method to find when the person arrived. Check whether that is a fashionably late spot given the list length (`len`). Think about 0-indexing"
      ],
      "text/plain": [
       "Hint: Use the index method to find when the person arrived. Check whether that is a fashionably late spot given the list length (`len`). Think about 0-indexing"
      ]
     },
     "metadata": {},
     "output_type": "display_data"
    },
    {
     "data": {
      "application/javascript": [
       "parent.postMessage({\"jupyterEvent\": \"custom.exercise_interaction\", \"data\": {\"interactionType\": 3, \"questionType\": 2, \"questionId\": \"5_FashionablyLate\", \"learnToolsVersion\": \"0.3.4\", \"valueTowardsCompletion\": 0.0, \"failureMessage\": \"\", \"exceptionClass\": \"\", \"trace\": \"\", \"outcomeType\": 4}}, \"*\")"
      ],
      "text/plain": [
       "<IPython.core.display.Javascript object>"
      ]
     },
     "metadata": {},
     "output_type": "display_data"
    },
    {
     "data": {
      "text/markdown": [
       "<span style=\"color:#33cc99\">Solution:</span> \n",
       "```python\n",
       "def fashionably_late(arrivals, name):\n",
       "    order = arrivals.index(name)\n",
       "    return order >= len(arrivals) / 2 and order != len(arrivals) - 1\n",
       "```"
      ],
      "text/plain": [
       "Solution: \n",
       "```python\n",
       "def fashionably_late(arrivals, name):\n",
       "    order = arrivals.index(name)\n",
       "    return order >= len(arrivals) / 2 and order != len(arrivals) - 1\n",
       "```"
      ]
     },
     "metadata": {},
     "output_type": "display_data"
    }
   ],
   "source": [
    "q5.hint()\n",
    "q5.solution()\n"
   ]
  },
  {
   "cell_type": "markdown",
   "id": "dbb87601",
   "metadata": {
    "papermill": {
     "duration": 0.007489,
     "end_time": "2022-05-29T14:24:53.648985",
     "exception": false,
     "start_time": "2022-05-29T14:24:53.641496",
     "status": "completed"
    },
    "tags": []
   },
   "source": [
    "# Keep Going\n",
    "\n",
    "That's it for lists and tuples! Now you have the baseline knowledge to **[learn about loops](https://www.kaggle.com/colinmorris/loops-and-list-comprehensions)**, which is where lists and tuples get really interesting. "
   ]
  },
  {
   "cell_type": "markdown",
   "id": "31622c89",
   "metadata": {
    "papermill": {
     "duration": 0.007407,
     "end_time": "2022-05-29T14:24:53.664086",
     "exception": false,
     "start_time": "2022-05-29T14:24:53.656679",
     "status": "completed"
    },
    "tags": []
   },
   "source": [
    "---\n",
    "\n",
    "\n",
    "\n",
    "\n",
    "*Have questions or comments? Visit the [course discussion forum](https://www.kaggle.com/learn/python/discussion) to chat with other learners.*"
   ]
  }
 ],
 "metadata": {
  "kernelspec": {
   "display_name": "Python 3",
   "language": "python",
   "name": "python3"
  },
  "language_info": {
   "codemirror_mode": {
    "name": "ipython",
    "version": 3
   },
   "file_extension": ".py",
   "mimetype": "text/x-python",
   "name": "python",
   "nbconvert_exporter": "python",
   "pygments_lexer": "ipython3",
   "version": "3.7.12"
  },
  "papermill": {
   "default_parameters": {},
   "duration": 12.755925,
   "end_time": "2022-05-29T14:24:54.393384",
   "environment_variables": {},
   "exception": null,
   "input_path": "__notebook__.ipynb",
   "output_path": "__notebook__.ipynb",
   "parameters": {},
   "start_time": "2022-05-29T14:24:41.637459",
   "version": "2.3.4"
  }
 },
 "nbformat": 4,
 "nbformat_minor": 5
}
